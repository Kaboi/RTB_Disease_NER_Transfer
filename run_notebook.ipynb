{
 "cells": [
  {
   "cell_type": "code",
   "execution_count": 1,
   "outputs": [
    {
     "name": "stdout",
     "output_type": "stream",
     "text": [
      "/home/leroy/Dev/Code/RTB_Disease_NER_Transfer\r\n"
     ]
    }
   ],
   "source": [
    "! pwd"
   ],
   "metadata": {
    "collapsed": false,
    "ExecuteTime": {
     "end_time": "2023-06-27T05:29:11.986433442Z",
     "start_time": "2023-06-27T05:29:11.784322235Z"
    }
   }
  },
  {
   "cell_type": "code",
   "execution_count": 2,
   "outputs": [
    {
     "name": "stdout",
     "output_type": "stream",
     "text": [
      "/bin/bash: nvcc: command not found\r\n"
     ]
    }
   ],
   "source": [
    "! nvcc --version"
   ],
   "metadata": {
    "collapsed": false,
    "ExecuteTime": {
     "end_time": "2023-06-27T05:29:17.156743204Z",
     "start_time": "2023-06-27T05:29:16.867027892Z"
    }
   }
  },
  {
   "cell_type": "code",
   "execution_count": 3,
   "outputs": [
    {
     "name": "stdout",
     "output_type": "stream",
     "text": [
      "Tue Jun 27 08:29:21 2023       \r\n",
      "+---------------------------------------------------------------------------------------+\r\n",
      "| NVIDIA-SMI 535.54.04              Driver Version: 536.25       CUDA Version: 12.2     |\r\n",
      "|-----------------------------------------+----------------------+----------------------+\r\n",
      "| GPU  Name                 Persistence-M | Bus-Id        Disp.A | Volatile Uncorr. ECC |\r\n",
      "| Fan  Temp   Perf          Pwr:Usage/Cap |         Memory-Usage | GPU-Util  Compute M. |\r\n",
      "|                                         |                      |               MIG M. |\r\n",
      "|=========================================+======================+======================|\r\n",
      "|   0  NVIDIA T1200 Laptop GPU        On  | 00000000:01:00.0 Off |                  N/A |\r\n",
      "| N/A   49C    P8               5W /  38W |      0MiB /  4096MiB |      0%      Default |\r\n",
      "|                                         |                      |                  N/A |\r\n",
      "+-----------------------------------------+----------------------+----------------------+\r\n",
      "                                                                                         \r\n",
      "+---------------------------------------------------------------------------------------+\r\n",
      "| Processes:                                                                            |\r\n",
      "|  GPU   GI   CI        PID   Type   Process name                            GPU Memory |\r\n",
      "|        ID   ID                                                             Usage      |\r\n",
      "|=======================================================================================|\r\n",
      "|    0   N/A  N/A       442      G   /Xwayland                                 N/A      |\r\n",
      "+---------------------------------------------------------------------------------------+\r\n"
     ]
    }
   ],
   "source": [
    "! nvidia-smi"
   ],
   "metadata": {
    "collapsed": false,
    "ExecuteTime": {
     "end_time": "2023-06-27T05:29:21.502696938Z",
     "start_time": "2023-06-27T05:29:20.913611876Z"
    }
   }
  },
  {
   "cell_type": "code",
   "execution_count": 4,
   "outputs": [
    {
     "name": "stdout",
     "output_type": "stream",
     "text": [
      "True\n",
      "2.0.1+cu118\n"
     ]
    }
   ],
   "source": [
    "import torch\n",
    "print(torch.cuda.is_available())\n",
    "print(torch.__version__)"
   ],
   "metadata": {
    "collapsed": false,
    "ExecuteTime": {
     "end_time": "2023-06-27T05:29:27.426701242Z",
     "start_time": "2023-06-27T05:29:24.931798726Z"
    }
   }
  },
  {
   "cell_type": "markdown",
   "source": [
    "Install transformers"
   ],
   "metadata": {
    "collapsed": false
   }
  },
  {
   "cell_type": "code",
   "execution_count": null,
   "outputs": [],
   "source": [
    "# !pip install git+https://github.com/huggingface/transformers"
   ],
   "metadata": {
    "collapsed": false
   }
  },
  {
   "cell_type": "markdown",
   "source": [
    "Install the other required libraries"
   ],
   "metadata": {
    "collapsed": false
   }
  },
  {
   "cell_type": "code",
   "execution_count": 5,
   "outputs": [
    {
     "name": "stdout",
     "output_type": "stream",
     "text": [
      "Requirement already satisfied: transformers in /home/leroy/miniconda3/envs/deep_pdp/lib/python3.8/site-packages (4.30.2)\r\n",
      "Requirement already satisfied: filelock in /home/leroy/.local/lib/python3.8/site-packages (from transformers) (3.9.0)\r\n",
      "Requirement already satisfied: huggingface-hub<1.0,>=0.14.1 in /home/leroy/miniconda3/envs/deep_pdp/lib/python3.8/site-packages (from transformers) (0.15.1)\r\n",
      "Requirement already satisfied: numpy>=1.17 in /home/leroy/.local/lib/python3.8/site-packages (from transformers) (1.24.1)\r\n",
      "Requirement already satisfied: packaging>=20.0 in /home/leroy/miniconda3/envs/deep_pdp/lib/python3.8/site-packages (from transformers) (23.1)\r\n",
      "Requirement already satisfied: pyyaml>=5.1 in /home/leroy/miniconda3/envs/deep_pdp/lib/python3.8/site-packages (from transformers) (6.0)\r\n",
      "Requirement already satisfied: regex!=2019.12.17 in /home/leroy/miniconda3/envs/deep_pdp/lib/python3.8/site-packages (from transformers) (2023.6.3)\r\n",
      "Requirement already satisfied: requests in /home/leroy/miniconda3/envs/deep_pdp/lib/python3.8/site-packages (from transformers) (2.28.1)\r\n",
      "Requirement already satisfied: tokenizers!=0.11.3,<0.14,>=0.11.1 in /home/leroy/miniconda3/envs/deep_pdp/lib/python3.8/site-packages (from transformers) (0.13.3)\r\n",
      "Requirement already satisfied: safetensors>=0.3.1 in /home/leroy/miniconda3/envs/deep_pdp/lib/python3.8/site-packages (from transformers) (0.3.1)\r\n",
      "Requirement already satisfied: tqdm>=4.27 in /home/leroy/miniconda3/envs/deep_pdp/lib/python3.8/site-packages (from transformers) (4.65.0)\r\n",
      "Requirement already satisfied: fsspec in /home/leroy/miniconda3/envs/deep_pdp/lib/python3.8/site-packages (from huggingface-hub<1.0,>=0.14.1->transformers) (2023.6.0)\r\n",
      "Requirement already satisfied: typing-extensions>=3.7.4.3 in /home/leroy/.local/lib/python3.8/site-packages (from huggingface-hub<1.0,>=0.14.1->transformers) (4.4.0)\r\n",
      "Requirement already satisfied: charset-normalizer<3,>=2 in /home/leroy/miniconda3/envs/deep_pdp/lib/python3.8/site-packages (from requests->transformers) (2.1.1)\r\n",
      "Requirement already satisfied: idna<4,>=2.5 in /home/leroy/miniconda3/envs/deep_pdp/lib/python3.8/site-packages (from requests->transformers) (3.4)\r\n",
      "Requirement already satisfied: urllib3<1.27,>=1.21.1 in /home/leroy/miniconda3/envs/deep_pdp/lib/python3.8/site-packages (from requests->transformers) (1.26.13)\r\n",
      "Requirement already satisfied: certifi>=2017.4.17 in /home/leroy/miniconda3/envs/deep_pdp/lib/python3.8/site-packages (from requests->transformers) (2022.12.7)\r\n",
      "Requirement already satisfied: transformers[sentencepiece] in /home/leroy/miniconda3/envs/deep_pdp/lib/python3.8/site-packages (4.30.2)\r\n",
      "Requirement already satisfied: filelock in /home/leroy/.local/lib/python3.8/site-packages (from transformers[sentencepiece]) (3.9.0)\r\n",
      "Requirement already satisfied: huggingface-hub<1.0,>=0.14.1 in /home/leroy/miniconda3/envs/deep_pdp/lib/python3.8/site-packages (from transformers[sentencepiece]) (0.15.1)\r\n",
      "Requirement already satisfied: numpy>=1.17 in /home/leroy/.local/lib/python3.8/site-packages (from transformers[sentencepiece]) (1.24.1)\r\n",
      "Requirement already satisfied: packaging>=20.0 in /home/leroy/miniconda3/envs/deep_pdp/lib/python3.8/site-packages (from transformers[sentencepiece]) (23.1)\r\n",
      "Requirement already satisfied: pyyaml>=5.1 in /home/leroy/miniconda3/envs/deep_pdp/lib/python3.8/site-packages (from transformers[sentencepiece]) (6.0)\r\n",
      "Requirement already satisfied: regex!=2019.12.17 in /home/leroy/miniconda3/envs/deep_pdp/lib/python3.8/site-packages (from transformers[sentencepiece]) (2023.6.3)\r\n",
      "Requirement already satisfied: requests in /home/leroy/miniconda3/envs/deep_pdp/lib/python3.8/site-packages (from transformers[sentencepiece]) (2.28.1)\r\n",
      "Requirement already satisfied: tokenizers!=0.11.3,<0.14,>=0.11.1 in /home/leroy/miniconda3/envs/deep_pdp/lib/python3.8/site-packages (from transformers[sentencepiece]) (0.13.3)\r\n",
      "Requirement already satisfied: safetensors>=0.3.1 in /home/leroy/miniconda3/envs/deep_pdp/lib/python3.8/site-packages (from transformers[sentencepiece]) (0.3.1)\r\n",
      "Requirement already satisfied: tqdm>=4.27 in /home/leroy/miniconda3/envs/deep_pdp/lib/python3.8/site-packages (from transformers[sentencepiece]) (4.65.0)\r\n",
      "Requirement already satisfied: sentencepiece!=0.1.92,>=0.1.91 in /home/leroy/miniconda3/envs/deep_pdp/lib/python3.8/site-packages (from transformers[sentencepiece]) (0.1.99)\r\n",
      "Requirement already satisfied: protobuf<=3.20.3 in /home/leroy/miniconda3/envs/deep_pdp/lib/python3.8/site-packages (from transformers[sentencepiece]) (3.20.3)\r\n",
      "Requirement already satisfied: fsspec in /home/leroy/miniconda3/envs/deep_pdp/lib/python3.8/site-packages (from huggingface-hub<1.0,>=0.14.1->transformers[sentencepiece]) (2023.6.0)\r\n",
      "Requirement already satisfied: typing-extensions>=3.7.4.3 in /home/leroy/.local/lib/python3.8/site-packages (from huggingface-hub<1.0,>=0.14.1->transformers[sentencepiece]) (4.4.0)\r\n",
      "Requirement already satisfied: charset-normalizer<3,>=2 in /home/leroy/miniconda3/envs/deep_pdp/lib/python3.8/site-packages (from requests->transformers[sentencepiece]) (2.1.1)\r\n",
      "Requirement already satisfied: idna<4,>=2.5 in /home/leroy/miniconda3/envs/deep_pdp/lib/python3.8/site-packages (from requests->transformers[sentencepiece]) (3.4)\r\n",
      "Requirement already satisfied: urllib3<1.27,>=1.21.1 in /home/leroy/miniconda3/envs/deep_pdp/lib/python3.8/site-packages (from requests->transformers[sentencepiece]) (1.26.13)\r\n",
      "Requirement already satisfied: certifi>=2017.4.17 in /home/leroy/miniconda3/envs/deep_pdp/lib/python3.8/site-packages (from requests->transformers[sentencepiece]) (2022.12.7)\r\n",
      "Requirement already satisfied: transformers[torch] in /home/leroy/miniconda3/envs/deep_pdp/lib/python3.8/site-packages (4.30.2)\r\n",
      "Requirement already satisfied: filelock in /home/leroy/.local/lib/python3.8/site-packages (from transformers[torch]) (3.9.0)\r\n",
      "Requirement already satisfied: huggingface-hub<1.0,>=0.14.1 in /home/leroy/miniconda3/envs/deep_pdp/lib/python3.8/site-packages (from transformers[torch]) (0.15.1)\r\n",
      "Requirement already satisfied: numpy>=1.17 in /home/leroy/.local/lib/python3.8/site-packages (from transformers[torch]) (1.24.1)\r\n",
      "Requirement already satisfied: packaging>=20.0 in /home/leroy/miniconda3/envs/deep_pdp/lib/python3.8/site-packages (from transformers[torch]) (23.1)\r\n",
      "Requirement already satisfied: pyyaml>=5.1 in /home/leroy/miniconda3/envs/deep_pdp/lib/python3.8/site-packages (from transformers[torch]) (6.0)\r\n",
      "Requirement already satisfied: regex!=2019.12.17 in /home/leroy/miniconda3/envs/deep_pdp/lib/python3.8/site-packages (from transformers[torch]) (2023.6.3)\r\n",
      "Requirement already satisfied: requests in /home/leroy/miniconda3/envs/deep_pdp/lib/python3.8/site-packages (from transformers[torch]) (2.28.1)\r\n",
      "Requirement already satisfied: tokenizers!=0.11.3,<0.14,>=0.11.1 in /home/leroy/miniconda3/envs/deep_pdp/lib/python3.8/site-packages (from transformers[torch]) (0.13.3)\r\n",
      "Requirement already satisfied: safetensors>=0.3.1 in /home/leroy/miniconda3/envs/deep_pdp/lib/python3.8/site-packages (from transformers[torch]) (0.3.1)\r\n",
      "Requirement already satisfied: tqdm>=4.27 in /home/leroy/miniconda3/envs/deep_pdp/lib/python3.8/site-packages (from transformers[torch]) (4.65.0)\r\n",
      "Requirement already satisfied: torch!=1.12.0,>=1.9 in /home/leroy/.local/lib/python3.8/site-packages (from transformers[torch]) (2.0.1+cu118)\r\n",
      "Requirement already satisfied: accelerate>=0.20.2 in /home/leroy/miniconda3/envs/deep_pdp/lib/python3.8/site-packages (from transformers[torch]) (0.20.3)\r\n",
      "Requirement already satisfied: psutil in /home/leroy/miniconda3/envs/deep_pdp/lib/python3.8/site-packages (from accelerate>=0.20.2->transformers[torch]) (5.9.5)\r\n",
      "Requirement already satisfied: fsspec in /home/leroy/miniconda3/envs/deep_pdp/lib/python3.8/site-packages (from huggingface-hub<1.0,>=0.14.1->transformers[torch]) (2023.6.0)\r\n",
      "Requirement already satisfied: typing-extensions>=3.7.4.3 in /home/leroy/.local/lib/python3.8/site-packages (from huggingface-hub<1.0,>=0.14.1->transformers[torch]) (4.4.0)\r\n",
      "Requirement already satisfied: sympy in /home/leroy/.local/lib/python3.8/site-packages (from torch!=1.12.0,>=1.9->transformers[torch]) (1.11.1)\r\n",
      "Requirement already satisfied: networkx in /home/leroy/.local/lib/python3.8/site-packages (from torch!=1.12.0,>=1.9->transformers[torch]) (3.0)\r\n",
      "Requirement already satisfied: jinja2 in /home/leroy/miniconda3/envs/deep_pdp/lib/python3.8/site-packages (from torch!=1.12.0,>=1.9->transformers[torch]) (3.1.2)\r\n",
      "Requirement already satisfied: triton==2.0.0 in /home/leroy/.local/lib/python3.8/site-packages (from torch!=1.12.0,>=1.9->transformers[torch]) (2.0.0)\r\n",
      "Requirement already satisfied: cmake in /home/leroy/.local/lib/python3.8/site-packages (from triton==2.0.0->torch!=1.12.0,>=1.9->transformers[torch]) (3.25.0)\r\n",
      "Requirement already satisfied: lit in /home/leroy/.local/lib/python3.8/site-packages (from triton==2.0.0->torch!=1.12.0,>=1.9->transformers[torch]) (15.0.7)\r\n",
      "Requirement already satisfied: charset-normalizer<3,>=2 in /home/leroy/miniconda3/envs/deep_pdp/lib/python3.8/site-packages (from requests->transformers[torch]) (2.1.1)\r\n",
      "Requirement already satisfied: idna<4,>=2.5 in /home/leroy/miniconda3/envs/deep_pdp/lib/python3.8/site-packages (from requests->transformers[torch]) (3.4)\r\n",
      "Requirement already satisfied: urllib3<1.27,>=1.21.1 in /home/leroy/miniconda3/envs/deep_pdp/lib/python3.8/site-packages (from requests->transformers[torch]) (1.26.13)\r\n",
      "Requirement already satisfied: certifi>=2017.4.17 in /home/leroy/miniconda3/envs/deep_pdp/lib/python3.8/site-packages (from requests->transformers[torch]) (2022.12.7)\r\n",
      "Requirement already satisfied: MarkupSafe>=2.0 in /home/leroy/miniconda3/envs/deep_pdp/lib/python3.8/site-packages (from jinja2->torch!=1.12.0,>=1.9->transformers[torch]) (2.1.2)\r\n",
      "Requirement already satisfied: mpmath>=0.19 in /home/leroy/.local/lib/python3.8/site-packages (from sympy->torch!=1.12.0,>=1.9->transformers[torch]) (1.2.1)\r\n",
      "Requirement already satisfied: seqeval in /home/leroy/miniconda3/envs/deep_pdp/lib/python3.8/site-packages (1.2.2)\r\n",
      "Requirement already satisfied: numpy>=1.14.0 in /home/leroy/.local/lib/python3.8/site-packages (from seqeval) (1.24.1)\r\n",
      "Requirement already satisfied: scikit-learn>=0.21.3 in /home/leroy/miniconda3/envs/deep_pdp/lib/python3.8/site-packages (from seqeval) (1.2.2)\r\n",
      "Requirement already satisfied: scipy>=1.3.2 in /home/leroy/miniconda3/envs/deep_pdp/lib/python3.8/site-packages (from scikit-learn>=0.21.3->seqeval) (1.10.1)\r\n",
      "Requirement already satisfied: joblib>=1.1.1 in /home/leroy/miniconda3/envs/deep_pdp/lib/python3.8/site-packages (from scikit-learn>=0.21.3->seqeval) (1.2.0)\r\n",
      "Requirement already satisfied: threadpoolctl>=2.0.0 in /home/leroy/miniconda3/envs/deep_pdp/lib/python3.8/site-packages (from scikit-learn>=0.21.3->seqeval) (3.1.0)\r\n",
      "Requirement already satisfied: conllu in /home/leroy/miniconda3/envs/deep_pdp/lib/python3.8/site-packages (4.5.3)\r\n",
      "Requirement already satisfied: wandb in /home/leroy/miniconda3/envs/deep_pdp/lib/python3.8/site-packages (0.15.4)\r\n",
      "Requirement already satisfied: Click!=8.0.0,>=7.0 in /home/leroy/miniconda3/envs/deep_pdp/lib/python3.8/site-packages (from wandb) (8.1.3)\r\n",
      "Requirement already satisfied: GitPython!=3.1.29,>=1.0.0 in /home/leroy/miniconda3/envs/deep_pdp/lib/python3.8/site-packages (from wandb) (3.1.31)\r\n",
      "Requirement already satisfied: requests<3,>=2.0.0 in /home/leroy/miniconda3/envs/deep_pdp/lib/python3.8/site-packages (from wandb) (2.28.1)\r\n",
      "Requirement already satisfied: psutil>=5.0.0 in /home/leroy/miniconda3/envs/deep_pdp/lib/python3.8/site-packages (from wandb) (5.9.5)\r\n",
      "Requirement already satisfied: sentry-sdk>=1.0.0 in /home/leroy/miniconda3/envs/deep_pdp/lib/python3.8/site-packages (from wandb) (1.26.0)\r\n",
      "Requirement already satisfied: docker-pycreds>=0.4.0 in /home/leroy/miniconda3/envs/deep_pdp/lib/python3.8/site-packages (from wandb) (0.4.0)\r\n",
      "Requirement already satisfied: PyYAML in /home/leroy/miniconda3/envs/deep_pdp/lib/python3.8/site-packages (from wandb) (6.0)\r\n",
      "Requirement already satisfied: pathtools in /home/leroy/miniconda3/envs/deep_pdp/lib/python3.8/site-packages (from wandb) (0.1.2)\r\n",
      "Requirement already satisfied: setproctitle in /home/leroy/miniconda3/envs/deep_pdp/lib/python3.8/site-packages (from wandb) (1.3.2)\r\n",
      "Requirement already satisfied: setuptools in /home/leroy/miniconda3/envs/deep_pdp/lib/python3.8/site-packages (from wandb) (68.0.0)\r\n",
      "Requirement already satisfied: appdirs>=1.4.3 in /home/leroy/miniconda3/envs/deep_pdp/lib/python3.8/site-packages (from wandb) (1.4.4)\r\n",
      "Requirement already satisfied: typing-extensions in /home/leroy/.local/lib/python3.8/site-packages (from wandb) (4.4.0)\r\n",
      "Requirement already satisfied: protobuf!=4.21.0,<5,>=3.12.0 in /home/leroy/miniconda3/envs/deep_pdp/lib/python3.8/site-packages (from wandb) (3.20.3)\r\n",
      "Requirement already satisfied: six>=1.4.0 in /home/leroy/miniconda3/envs/deep_pdp/lib/python3.8/site-packages (from docker-pycreds>=0.4.0->wandb) (1.16.0)\r\n",
      "Requirement already satisfied: gitdb<5,>=4.0.1 in /home/leroy/miniconda3/envs/deep_pdp/lib/python3.8/site-packages (from GitPython!=3.1.29,>=1.0.0->wandb) (4.0.10)\r\n",
      "Requirement already satisfied: charset-normalizer<3,>=2 in /home/leroy/miniconda3/envs/deep_pdp/lib/python3.8/site-packages (from requests<3,>=2.0.0->wandb) (2.1.1)\r\n",
      "Requirement already satisfied: idna<4,>=2.5 in /home/leroy/miniconda3/envs/deep_pdp/lib/python3.8/site-packages (from requests<3,>=2.0.0->wandb) (3.4)\r\n",
      "Requirement already satisfied: urllib3<1.27,>=1.21.1 in /home/leroy/miniconda3/envs/deep_pdp/lib/python3.8/site-packages (from requests<3,>=2.0.0->wandb) (1.26.13)\r\n",
      "Requirement already satisfied: certifi>=2017.4.17 in /home/leroy/miniconda3/envs/deep_pdp/lib/python3.8/site-packages (from requests<3,>=2.0.0->wandb) (2022.12.7)\r\n",
      "Requirement already satisfied: smmap<6,>=3.0.1 in /home/leroy/miniconda3/envs/deep_pdp/lib/python3.8/site-packages (from gitdb<5,>=4.0.1->GitPython!=3.1.29,>=1.0.0->wandb) (5.0.0)\r\n"
     ]
    }
   ],
   "source": [
    "# ! pip install --upgrade transformers\n",
    "! pip install transformers[sentencepiece]\n",
    "! pip install transformers[torch]\n",
    "! pip install seqeval\n",
    "! pip install conllu\n",
    "! pip install wandb"
   ],
   "metadata": {
    "collapsed": false,
    "ExecuteTime": {
     "end_time": "2023-06-27T05:29:46.341547086Z",
     "start_time": "2023-06-27T05:29:34.062240042Z"
    }
   }
  },
  {
   "cell_type": "markdown",
   "source": [
    "Name the WandB Project"
   ],
   "metadata": {
    "collapsed": false
   }
  },
  {
   "cell_type": "code",
   "execution_count": 6,
   "outputs": [
    {
     "name": "stderr",
     "output_type": "stream",
     "text": [
      "\u001B[34m\u001B[1mwandb\u001B[0m: Currently logged in as: \u001B[33mleroykabs\u001B[0m. Use \u001B[1m`wandb login --relogin`\u001B[0m to force relogin\n"
     ]
    },
    {
     "data": {
      "text/plain": "True"
     },
     "execution_count": 6,
     "metadata": {},
     "output_type": "execute_result"
    }
   ],
   "source": [
    "# login to wandb\n",
    "import wandb\n",
    "wandb.login()"
   ],
   "metadata": {
    "collapsed": false,
    "ExecuteTime": {
     "end_time": "2023-06-27T05:30:03.709568608Z",
     "start_time": "2023-06-27T05:30:00.733593818Z"
    }
   }
  },
  {
   "cell_type": "code",
   "execution_count": 12,
   "outputs": [
    {
     "name": "stdout",
     "output_type": "stream",
     "text": [
      "env: WANDB_PROJECT=RTB-NER-Transfer-Learning\n",
      "env: WANDB_TAGS=\"Transfer Learning\", \"train\", \"BERT\"\n"
     ]
    }
   ],
   "source": [
    "%env WANDB_PROJECT=RTB-NER-Transfer-Learning\n",
    "%env WANDB_TAGS = \"Transfer Learning\", \"train\", \"BERT\""
   ],
   "metadata": {
    "collapsed": false,
    "ExecuteTime": {
     "end_time": "2023-06-27T05:47:18.544640976Z",
     "start_time": "2023-06-27T05:47:18.498908864Z"
    }
   }
  },
  {
   "cell_type": "code",
   "execution_count": null,
   "outputs": [],
   "source": [
    "# %env WANDB_PROJECT=WNUT-NER-Transfer-Learning\n",
    "# %env WANDB_TAGS = [\"Transfer Learning\", \"BERT\", \"train\", \"WNUT\"]"
   ],
   "metadata": {
    "collapsed": false
   }
  },
  {
   "cell_type": "markdown",
   "source": [
    "Run the training"
   ],
   "metadata": {
    "collapsed": false
   }
  },
  {
   "cell_type": "code",
   "execution_count": 9,
   "outputs": [],
   "source": [
    "# ! python scripts/preprocess.py data/ciat_ner_diseases-output-iob-tags-30-train.txt bert-base-uncased 128 > data_30/train.txt\n",
    "# ! python scripts/preprocess.py data/ciat_ner_diseases-output-iob-tags-30-test.txt bert-base-uncased 128 > data_30/test.txt\n",
    "# ! python scripts/preprocess.py data/ciat_ner_diseases-output-iob-tags-30-validate.txt bert-base-uncased 128 > data_30/dev.txt"
   ],
   "metadata": {
    "collapsed": false,
    "ExecuteTime": {
     "end_time": "2023-06-27T05:35:36.858844851Z",
     "start_time": "2023-06-27T05:35:27.617444229Z"
    }
   }
  },
  {
   "cell_type": "code",
   "execution_count": 10,
   "outputs": [],
   "source": [
    "# ! python scripts/preprocess.py data_WNUT17/wnut17train.conll bert-base-uncased 128 > data_WNUT17/train.txt\n",
    "# ! python scripts/preprocess.py data_WNUT17/emerging.test.annotated bert-base-uncased 128 > data_WNUT17/test.txt\n",
    "# ! python scripts/preprocess.py data_WNUT17/emerging.dev.conll bert-base-uncased 128 > data_WNUT17/dev.txt"
   ],
   "metadata": {
    "collapsed": false,
    "ExecuteTime": {
     "end_time": "2023-06-27T05:38:06.361815654Z",
     "start_time": "2023-06-27T05:38:01.094227010Z"
    }
   }
  },
  {
   "cell_type": "code",
   "execution_count": 11,
   "outputs": [],
   "source": [
    "! cat data_WNUT17/train.txt data_WNUT17/dev.txt data_WNUT17/test.txt | cut -d \" \" -f 2 | grep -v \"^$\"| sort | uniq > data_WNUT17/labels.txt"
   ],
   "metadata": {
    "collapsed": false,
    "ExecuteTime": {
     "end_time": "2023-06-27T05:40:21.966994076Z",
     "start_time": "2023-06-27T05:40:21.646625488Z"
    }
   }
  },
  {
   "cell_type": "code",
   "execution_count": null,
   "outputs": [],
   "source": [
    "!python run_ner.py ./configs/train_config_bert_30.json"
   ],
   "metadata": {
    "collapsed": false
   }
  }
 ],
 "metadata": {
  "kernelspec": {
   "display_name": "Python 3",
   "language": "python",
   "name": "python3"
  },
  "language_info": {
   "codemirror_mode": {
    "name": "ipython",
    "version": 2
   },
   "file_extension": ".py",
   "mimetype": "text/x-python",
   "name": "python",
   "nbconvert_exporter": "python",
   "pygments_lexer": "ipython2",
   "version": "2.7.6"
  }
 },
 "nbformat": 4,
 "nbformat_minor": 0
}
