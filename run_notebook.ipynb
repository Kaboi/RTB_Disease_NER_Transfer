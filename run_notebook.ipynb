{
 "cells": [
  {
   "cell_type": "code",
   "execution_count": null,
   "outputs": [],
   "source": [
    "! pwd"
   ],
   "metadata": {
    "collapsed": false
   }
  },
  {
   "cell_type": "code",
   "execution_count": null,
   "outputs": [],
   "source": [
    "! nvcc --version"
   ],
   "metadata": {
    "collapsed": false
   }
  },
  {
   "cell_type": "code",
   "execution_count": null,
   "outputs": [],
   "source": [
    "! nvidia-smi"
   ],
   "metadata": {
    "collapsed": false
   }
  },
  {
   "cell_type": "code",
   "execution_count": null,
   "outputs": [],
   "source": [
    "import torch\n",
    "print(torch.cuda.is_available())\n",
    "print(torch.__version__)"
   ],
   "metadata": {
    "collapsed": false
   }
  },
  {
   "cell_type": "markdown",
   "source": [
    "Install transformers"
   ],
   "metadata": {
    "collapsed": false
   }
  },
  {
   "cell_type": "code",
   "execution_count": null,
   "outputs": [],
   "source": [
    "# !pip install git+https://github.com/huggingface/transformers"
   ],
   "metadata": {
    "collapsed": false
   }
  },
  {
   "cell_type": "markdown",
   "source": [
    "Install the other required libraries"
   ],
   "metadata": {
    "collapsed": false
   }
  },
  {
   "cell_type": "code",
   "execution_count": null,
   "outputs": [],
   "source": [
    "# ! pip install --upgrade transformers\n",
    "! pip install transformers[sentencepiece]\n",
    "! pip install transformers[torch]\n",
    "# ! pip install seqeval\n",
    "! pip install seqeval[gpu]\n",
    "! pip install conllu\n",
    "! pip install wandb"
   ],
   "metadata": {
    "collapsed": false
   }
  },
  {
   "cell_type": "markdown",
   "source": [],
   "metadata": {
    "collapsed": false
   }
  },
  {
   "cell_type": "markdown",
   "source": [
    "Name the WandB Project"
   ],
   "metadata": {
    "collapsed": false
   }
  },
  {
   "cell_type": "code",
   "execution_count": null,
   "outputs": [],
   "source": [
    "# login to wandb\n",
    "import wandb\n",
    "wandb.login()"
   ],
   "metadata": {
    "collapsed": false
   }
  },
  {
   "cell_type": "code",
   "execution_count": null,
   "outputs": [],
   "source": [
    "# %env WANDB_PROJECT=RTB-NER-Transfer-Learning\n",
    "# %env WANDB_PROJECT=RTB-NER-DEBUG\n",
    "# %env WANDB_TAGS =Transfer Learning,train,BERT"
   ],
   "metadata": {
    "collapsed": false
   }
  },
  {
   "cell_type": "code",
   "execution_count": null,
   "outputs": [],
   "source": [
    "# %env WANDB_PROJECT=WNUT-NER-Transfer-Learning\n",
    "# %env WANDB_TAGS = [\"Transfer Learning\", \"BERT\", \"train\", \"WNUT\"]"
   ],
   "metadata": {
    "collapsed": false
   }
  },
  {
   "cell_type": "markdown",
   "source": [
    "Run the training"
   ],
   "metadata": {
    "collapsed": false
   }
  },
  {
   "cell_type": "code",
   "execution_count": null,
   "outputs": [],
   "source": [
    "# ! tr '\\t' ' ' < data_10/ciat_ner_diseases-output-iob-tags-10_train.txt > data_10/train.txt.tmp\n",
    "# ! tr '\\t' ' ' < data_10/ciat_ner_diseases-output-iob-tags-10_test.txt > data_10/test.txt.tmp\n",
    "# ! tr '\\t' ' ' < data_10/ciat_ner_diseases-output-iob-tags-10_validate.txt > data_10/dev.txt.tmp"
   ],
   "metadata": {
    "collapsed": false
   }
  },
  {
   "cell_type": "code",
   "execution_count": null,
   "outputs": [],
   "source": [
    "# ! python scripts/preprocess.py data_10/train.txt.tmp bert-large-cased 128 > data_10/train.txt\n",
    "# ! python scripts/preprocess.py data_10/test.txt.tmp bert-large-cased 128 > data_10/test.txt\n",
    "# ! python scripts/preprocess.py data_10/dev.txt.tmp bert-large-cased 128 > data_10/dev.txt"
   ],
   "metadata": {
    "collapsed": false
   }
  },
  {
   "cell_type": "code",
   "execution_count": null,
   "outputs": [],
   "source": [
    "! tr '\\t' ' ' < data_30/ciat_ner_diseases-output-iob-tags-30_train.txt > data_30/train.txt.tmp\n",
    "! tr '\\t' ' ' < data_30/ciat_ner_diseases-output-iob-tags-30_test.txt > data_30/test.txt.tmp\n",
    "! tr '\\t' ' ' < data_30/ciat_ner_diseases-output-iob-tags-30_validate.txt > data_30/dev.txt.tmp"
   ],
   "metadata": {
    "collapsed": false
   }
  },
  {
   "cell_type": "code",
   "execution_count": null,
   "outputs": [],
   "source": [
    "! python scripts/preprocess.py data_30/train.txt.tmp allenai/scibert_scivocab_uncased 128 > data_30/train.txt\n",
    "! python scripts/preprocess.py data_30/test.txt.tmp allenai/scibert_scivocab_uncased 128 > data_30/test.txt\n",
    "! python scripts/preprocess.py data_30/dev.txt.tmp allenai/scibert_scivocab_uncased 128 > data_30/dev.txt"
   ],
   "metadata": {
    "collapsed": false
   }
  },
  {
   "cell_type": "code",
   "execution_count": null,
   "outputs": [],
   "source": [
    "# ! python scripts/preprocess.py data/ciat_ner_diseases-output-iob-tags-30-train.txt bert-base-uncased 128 > data_30/train.txt\n",
    "# ! python scripts/preprocess.py data/ciat_ner_diseases-output-iob-tags-30-test.txt bert-base-uncased 128 > data_30/test.txt\n",
    "# ! python scripts/preprocess.py data/ciat_ner_diseases-output-iob-tags-30-validate.txt bert-base-uncased 128 > data_30/dev.txt"
   ],
   "metadata": {
    "collapsed": false
   }
  },
  {
   "cell_type": "code",
   "execution_count": null,
   "outputs": [],
   "source": [
    "# ! python scripts/preprocess.py data_WNUT17/wnut17train.conll bert-base-uncased 128 > data_WNUT17/train.txt\n",
    "# ! python scripts/preprocess.py data_WNUT17/emerging.test.annotated bert-base-uncased 128 > data_WNUT17/test.txt\n",
    "# ! python scripts/preprocess.py data_WNUT17/emerging.dev.conll bert-base-uncased 128 > data_WNUT17/dev.txt"
   ],
   "metadata": {
    "collapsed": false
   }
  },
  {
   "cell_type": "code",
   "execution_count": null,
   "outputs": [],
   "source": [
    "# ! tr '\\t' ' ' < data_20/ciat_ner_diseases-output-iob-tags-20_test.txt > data_20/test.txt.tmp\n",
    "# ! tr '\\t' ' ' < data_20/ciat_ner_diseases-output-iob-tags-20_train.txt > data_20/train.txt.tmp\n",
    "# ! tr '\\t' ' ' < data_20/ciat_ner_diseases-output-iob-tags-20_validate.txt > data_20/dev.txt.tmp\n",
    "\n",
    "# do in shell\n",
    "# export MAX_LENGTH=128\n",
    "# export BERT_MODEL=bert-base-cased\n",
    "# python3 scripts/preprocess.py data_20/train.txt.tmp $BERT_MODEL $MAX_LENGTH > data_20/train.txt\n",
    "# python3 scripts/preprocess.py data_20/dev.txt.tmp $BERT_MODEL $MAX_LENGTH > data_20/dev.txt\n",
    "# python3 scripts/preprocess.py data_20/test.txt.tmp $BERT_MODEL $MAX_LENGTH > data_20/test.txt"
   ],
   "metadata": {
    "collapsed": false
   }
  },
  {
   "cell_type": "code",
   "execution_count": null,
   "outputs": [],
   "source": [
    "# # ! mkdir -p data_WNUT17\n",
    "\n",
    "# ! curl -L 'https://github.com/leondz/emerging_entities_17/raw/master/wnut17train.conll'  | tr '\\t' ' ' > data_WNUT17/train.txt.tmp\n",
    "# ! curl -L 'https://github.com/leondz/emerging_entities_17/raw/master/emerging.dev.conll' | tr '\\t' ' ' > data_WNUT17/dev.txt.tmp\n",
    "# ! curl -L 'https://raw.githubusercontent.com/leondz/emerging_entities_17/master/emerging.test.annotated' | tr '\\t' ' ' > data_WNUT17/test.txt.tmp\n",
    "\n",
    "# do in shell\n",
    "# export MAX_LENGTH=128\n",
    "# export BERT_MODEL=bert-large-cased\n",
    "# python3 scripts/preprocess.py data_WNUT17/train.txt.tmp $BERT_MODEL $MAX_LENGTH > data_WNUT17/train.txt\n",
    "# python3 scripts/preprocess.py data_WNUT17/dev.txt.tmp $BERT_MODEL $MAX_LENGTH > data_WNUT17/dev.txt\n",
    "# python3 scripts/preprocess.py data_WNUT17/test.txt.tmp $BERT_MODEL $MAX_LENGTH > data_WNUT17/test.txt\n",
    "\n",
    "# ! cat data_WNUT17/train.txt data_WNUT17/dev.txt data_WNUT17/test.txt | cut -d \" \" -f 2 | grep -v \"^$\"| sort | uniq > data_WNUT17/labels.txt"
   ],
   "metadata": {
    "collapsed": false
   }
  },
  {
   "cell_type": "code",
   "execution_count": null,
   "outputs": [],
   "source": [
    "# ! cat data_WNUT17/train.txt data_WNUT17/dev.txt data_WNUT17/test.txt | cut -d \" \" -f 2 | grep -v \"^$\"| sort | uniq > data_WNUT17/labels.txt"
   ],
   "metadata": {
    "collapsed": false
   }
  },
  {
   "cell_type": "code",
   "execution_count": null,
   "outputs": [],
   "source": [
    "# ! cat data_20/train.txt data_20/dev.txt data_20/test.txt | cut -d \" \" -f 2 | grep -v \"^$\"| sort | uniq > data_20/labels.txt"
   ],
   "metadata": {
    "collapsed": false
   }
  },
  {
   "cell_type": "code",
   "execution_count": null,
   "outputs": [],
   "source": [
    "! python run_ner.py ./configs/train_config_bert_large_cased_30.json"
   ],
   "metadata": {
    "collapsed": false
   }
  },
  {
   "cell_type": "code",
   "execution_count": null,
   "outputs": [],
   "source": [
    "! python run_ner.py ./configs/train_config_scibert_scivocab_uncased_30.json"
   ],
   "metadata": {
    "collapsed": false
   }
  }
 ],
 "metadata": {
  "kernelspec": {
   "display_name": "Python 3",
   "language": "python",
   "name": "python3"
  },
  "language_info": {
   "codemirror_mode": {
    "name": "ipython",
    "version": 2
   },
   "file_extension": ".py",
   "mimetype": "text/x-python",
   "name": "python",
   "nbconvert_exporter": "python",
   "pygments_lexer": "ipython2",
   "version": "2.7.6"
  }
 },
 "nbformat": 4,
 "nbformat_minor": 0
}
